{
 "cells": [
  {
   "cell_type": "markdown",
   "metadata": {},
   "source": [
    "# Web Scraping Job Postings Data from InfoJobs\n",
    "\n",
    "## Overview\n",
    "\n",
    "This project involves building a web scraper using Python and Selenium to extract job listings from the popular job search platform, InfoJobs. The scraper will extract relevant information such as job titles, companies, locations, job descriptions, and more.\n",
    "\n",
    "## Steps\n",
    "\n",
    "The main steps involved in this project are:\n",
    "\n",
    "1. Setting up the development environment.\n",
    "2. Understanding the basics of web scraping.\n",
    "3. Analyzing the website structure of InfoJobs.\n",
    "4. Writing the Python code to extract job data from InfoJobs.\n",
    "5. Saving the extracted data to a CSV file.\n",
    "\n",
    "## Prerequisites\n",
    "\n",
    "Before starting this project, you should have some basic knowledge of Python programming and HTML structure. You will also need the following Python packages:\n",
    "\n",
    "- Selenium\n",
    "- Time\n",
    "- pandas\n",
    "\n",
    "If you're working in a Jupyter Notebook environment, you can install any additional packages using `!pip install packagename` within a notebook cell. For example:\n",
    "\n",
    "- `!pip install pandas`\n",
    "- `!pip install time`\n",
    "- `!pip install selenium`\n",
    "\n",
    "## Usage\n",
    "\n",
    "To use the web scraper, run the Python script `script.py`. This will start the web scraper and save the extracted job data to a CSV file.\n",
    "\n",
    "## Contributing\n",
    "\n",
    "Contributions are welcome. Please open an issue to discuss your idea or submit a pull request.\n",
    "\n",
    "## License\n",
    "\n",
    "This project is licensed under the MIT License. See the `LICENSE` file for details."
   ]
  },
  {
   "cell_type": "code",
   "execution_count": 3,
   "metadata": {},
   "outputs": [],
   "source": [
    "from selenium import webdriver\n",
    "from selenium.webdriver.common.by import By\n",
    "from selenium.common.exceptions import NoSuchElementException\n",
    "from selenium.webdriver.chrome.options import Options\n",
    "\n",
    "import time\n",
    "import pandas as pd\n"
   ]
  },
  {
   "cell_type": "code",
   "execution_count": 3,
   "metadata": {},
   "outputs": [],
   "source": []
  },
  {
   "cell_type": "markdown",
   "metadata": {},
   "source": [
    "# Tratamento dos Dados"
   ]
  },
  {
   "cell_type": "code",
   "execution_count": 42,
   "metadata": {},
   "outputs": [],
   "source": [
    "df = pd.read_csv('output.csv')"
   ]
  },
  {
   "cell_type": "markdown",
   "metadata": {},
   "source": [
    "## Remoção de Linhas com algum problemas."
   ]
  },
  {
   "cell_type": "code",
   "execution_count": 43,
   "metadata": {},
   "outputs": [],
   "source": [
    "# Removendo linhas com a palavra \"\" no nome da empresa\n",
    "df = df[~df['Empresa'].str.contains('avaliações', case=False, na=False)]\n"
   ]
  },
  {
   "cell_type": "code",
   "execution_count": 44,
   "metadata": {},
   "outputs": [],
   "source": [
    "# Removendo linhas truncadas com \"EMPRESA CONFIDENCIAL\" na coluna Pontuacao_Empresa\n",
    "\n",
    "df = df[~df['Pontuacao_Empresa'].str.contains('EMPRESA CONFIDENCIAL', case=False, na=False)]"
   ]
  },
  {
   "cell_type": "code",
   "execution_count": 45,
   "metadata": {},
   "outputs": [],
   "source": [
    "# Removendo linhas truncadas com \"EMPRESA CONFIDENCIAL\" na coluna Numero_Avaliacoes\n",
    "df = df[~df['Numero_Avaliacoes'].str.contains('EMPRESA CONFIDENCIAL', case=False, na=False)]"
   ]
  },
  {
   "cell_type": "code",
   "execution_count": 46,
   "metadata": {},
   "outputs": [],
   "source": [
    "# Removendo linhas truncadas com a pontuação da empresa na coluna Numero_Avaliacoes\n",
    "df = df[df['Numero_Avaliacoes'].str.contains('avaliações', case=False, na=False)]"
   ]
  },
  {
   "cell_type": "code",
   "execution_count": 47,
   "metadata": {},
   "outputs": [],
   "source": [
    "df = df.drop_duplicates()"
   ]
  },
  {
   "cell_type": "code",
   "execution_count": 48,
   "metadata": {},
   "outputs": [],
   "source": [
    "df.reset_index(drop=True, inplace=True)"
   ]
  },
  {
   "cell_type": "code",
   "execution_count": 49,
   "metadata": {},
   "outputs": [
    {
     "data": {
      "text/html": [
       "<div>\n",
       "<style scoped>\n",
       "    .dataframe tbody tr th:only-of-type {\n",
       "        vertical-align: middle;\n",
       "    }\n",
       "\n",
       "    .dataframe tbody tr th {\n",
       "        vertical-align: top;\n",
       "    }\n",
       "\n",
       "    .dataframe thead th {\n",
       "        text-align: right;\n",
       "    }\n",
       "</style>\n",
       "<table border=\"1\" class=\"dataframe\">\n",
       "  <thead>\n",
       "    <tr style=\"text-align: right;\">\n",
       "      <th></th>\n",
       "      <th>Vaga</th>\n",
       "      <th>Empresa</th>\n",
       "      <th>Pontuacao_Empresa</th>\n",
       "      <th>Numero_Avaliacoes</th>\n",
       "      <th>Localizacao_da_Vaga</th>\n",
       "      <th>Modelo</th>\n",
       "      <th>Salario</th>\n",
       "      <th>Link_Vaga</th>\n",
       "    </tr>\n",
       "  </thead>\n",
       "  <tbody>\n",
       "    <tr>\n",
       "      <th>0</th>\n",
       "      <td>AUXILIAR LOGISTICO - CAMPINAS</td>\n",
       "      <td>GRUPO SRM</td>\n",
       "      <td>4,0</td>\n",
       "      <td>884 avaliações</td>\n",
       "      <td>Campinas - SP</td>\n",
       "      <td>Presencial</td>\n",
       "      <td>R$ 100,00 a R$ 180,00 (Bruto mensal)</td>\n",
       "      <td>https://www.infojobs.com.br/vaga-de-auxiliar-l...</td>\n",
       "    </tr>\n",
       "    <tr>\n",
       "      <th>1</th>\n",
       "      <td>Auxiliar De Vendas - SEM EXPERIENCIA (AD)</td>\n",
       "      <td>GARCIA EMPREENDIMENTOS</td>\n",
       "      <td>Sem nota</td>\n",
       "      <td>Sem avaliações</td>\n",
       "      <td>São Paulo - SP</td>\n",
       "      <td>Presencial</td>\n",
       "      <td>Salário a combinar</td>\n",
       "      <td>https://www.infojobs.com.br/vaga-de-auxiliar-v...</td>\n",
       "    </tr>\n",
       "    <tr>\n",
       "      <th>2</th>\n",
       "      <td>Ajudante De Expedição (PCD) - Sorocaba</td>\n",
       "      <td>BIMBO BRASIL LTDA</td>\n",
       "      <td>4,4</td>\n",
       "      <td>4.131 avaliações</td>\n",
       "      <td>Sorocaba - SP</td>\n",
       "      <td>PCD Presencial</td>\n",
       "      <td>Salário a combinar</td>\n",
       "      <td>https://www.infojobs.com.br/vaga-de-ajudante-e...</td>\n",
       "    </tr>\n",
       "    <tr>\n",
       "      <th>3</th>\n",
       "      <td>Supervisora Comercial - Estética &amp; Beleza</td>\n",
       "      <td>São Paulo - SP, a 12,2 km de você.</td>\n",
       "      <td>Sem nota</td>\n",
       "      <td>Sem avaliações</td>\n",
       "      <td>São Paulo - SP</td>\n",
       "      <td>Modelo de trabalho não encontrado</td>\n",
       "      <td>Salário a combinar</td>\n",
       "      <td>Link não encontrado</td>\n",
       "    </tr>\n",
       "    <tr>\n",
       "      <th>4</th>\n",
       "      <td>Auxiliar De Cozinha - Montagem E Condimentação...</td>\n",
       "      <td>O Burguês Burger - São José do Rio Preto/SP</td>\n",
       "      <td>Sem nota</td>\n",
       "      <td>Sem avaliações</td>\n",
       "      <td>São José do Rio Preto - SP</td>\n",
       "      <td>Presencial</td>\n",
       "      <td>Salário a combinar</td>\n",
       "      <td>https://www.infojobs.com.br/vaga-de-auxiliar-c...</td>\n",
       "    </tr>\n",
       "    <tr>\n",
       "      <th>...</th>\n",
       "      <td>...</td>\n",
       "      <td>...</td>\n",
       "      <td>...</td>\n",
       "      <td>...</td>\n",
       "      <td>...</td>\n",
       "      <td>...</td>\n",
       "      <td>...</td>\n",
       "      <td>...</td>\n",
       "    </tr>\n",
       "    <tr>\n",
       "      <th>4717</th>\n",
       "      <td>Professor De Inglês - Bairro Moinho Velho/Sacomã</td>\n",
       "      <td>Delta Idiomas</td>\n",
       "      <td>Sem nota</td>\n",
       "      <td>Sem avaliações</td>\n",
       "      <td>São Paulo - SP</td>\n",
       "      <td>Presencial</td>\n",
       "      <td>Salário a combinar</td>\n",
       "      <td>https://www.infojobs.com.br/vaga-de-professor-...</td>\n",
       "    </tr>\n",
       "    <tr>\n",
       "      <th>4718</th>\n",
       "      <td>Auxiliar De Estoque</td>\n",
       "      <td>Consultoria Acerta</td>\n",
       "      <td>Sem nota</td>\n",
       "      <td>Sem avaliações</td>\n",
       "      <td>São Paulo - SP</td>\n",
       "      <td>Presencial</td>\n",
       "      <td>R$ 1.629,00 a R$ 2.080,00 (Bruto mensal)</td>\n",
       "      <td>https://www.infojobs.com.br/vaga-de-auxiliar-e...</td>\n",
       "    </tr>\n",
       "    <tr>\n",
       "      <th>4719</th>\n",
       "      <td>Analista De E-Commerce (Moda Feminina)</td>\n",
       "      <td>LK DESIGN</td>\n",
       "      <td>Sem nota</td>\n",
       "      <td>Sem avaliações</td>\n",
       "      <td>São Paulo - SP</td>\n",
       "      <td>Presencial</td>\n",
       "      <td>R$ 2.500,00 (Bruto mensal)</td>\n",
       "      <td>https://www.infojobs.com.br/vaga-de-analista-c...</td>\n",
       "    </tr>\n",
       "    <tr>\n",
       "      <th>4720</th>\n",
       "      <td>Ajudante De Eletricista</td>\n",
       "      <td>Semote RH</td>\n",
       "      <td>Sem nota</td>\n",
       "      <td>Sem avaliações</td>\n",
       "      <td>São Paulo - SP</td>\n",
       "      <td>Presencial</td>\n",
       "      <td>R$ 1.898,00 (Bruto mensal)</td>\n",
       "      <td>https://www.infojobs.com.br/vaga-de-ajudante-e...</td>\n",
       "    </tr>\n",
       "    <tr>\n",
       "      <th>4721</th>\n",
       "      <td>ANALISTA FISCAL SENIOR</td>\n",
       "      <td>Semote RH</td>\n",
       "      <td>Sem nota</td>\n",
       "      <td>Sem avaliações</td>\n",
       "      <td>São Paulo - SP</td>\n",
       "      <td>Presencial</td>\n",
       "      <td>R$ 5.000,00 a R$ 6.000,00 (Bruto mensal)</td>\n",
       "      <td>https://www.infojobs.com.br/vaga-de-analista-f...</td>\n",
       "    </tr>\n",
       "  </tbody>\n",
       "</table>\n",
       "<p>4722 rows × 8 columns</p>\n",
       "</div>"
      ],
      "text/plain": [
       "                                                   Vaga  \\\n",
       "0                         AUXILIAR LOGISTICO - CAMPINAS   \n",
       "1             Auxiliar De Vendas - SEM EXPERIENCIA (AD)   \n",
       "2                Ajudante De Expedição (PCD) - Sorocaba   \n",
       "3             Supervisora Comercial - Estética & Beleza   \n",
       "4     Auxiliar De Cozinha - Montagem E Condimentação...   \n",
       "...                                                 ...   \n",
       "4717   Professor De Inglês - Bairro Moinho Velho/Sacomã   \n",
       "4718                                Auxiliar De Estoque   \n",
       "4719             Analista De E-Commerce (Moda Feminina)   \n",
       "4720                            Ajudante De Eletricista   \n",
       "4721                             ANALISTA FISCAL SENIOR   \n",
       "\n",
       "                                          Empresa Pontuacao_Empresa  \\\n",
       "0                                       GRUPO SRM               4,0   \n",
       "1                          GARCIA EMPREENDIMENTOS          Sem nota   \n",
       "2                               BIMBO BRASIL LTDA               4,4   \n",
       "3              São Paulo - SP, a 12,2 km de você.          Sem nota   \n",
       "4     O Burguês Burger - São José do Rio Preto/SP          Sem nota   \n",
       "...                                           ...               ...   \n",
       "4717                                Delta Idiomas          Sem nota   \n",
       "4718                           Consultoria Acerta          Sem nota   \n",
       "4719                                    LK DESIGN          Sem nota   \n",
       "4720                                    Semote RH          Sem nota   \n",
       "4721                                    Semote RH          Sem nota   \n",
       "\n",
       "     Numero_Avaliacoes         Localizacao_da_Vaga  \\\n",
       "0       884 avaliações               Campinas - SP   \n",
       "1       Sem avaliações              São Paulo - SP   \n",
       "2     4.131 avaliações               Sorocaba - SP   \n",
       "3       Sem avaliações              São Paulo - SP   \n",
       "4       Sem avaliações  São José do Rio Preto - SP   \n",
       "...                ...                         ...   \n",
       "4717    Sem avaliações              São Paulo - SP   \n",
       "4718    Sem avaliações              São Paulo - SP   \n",
       "4719    Sem avaliações              São Paulo - SP   \n",
       "4720    Sem avaliações              São Paulo - SP   \n",
       "4721    Sem avaliações              São Paulo - SP   \n",
       "\n",
       "                                 Modelo  \\\n",
       "0                            Presencial   \n",
       "1                            Presencial   \n",
       "2                        PCD Presencial   \n",
       "3     Modelo de trabalho não encontrado   \n",
       "4                            Presencial   \n",
       "...                                 ...   \n",
       "4717                         Presencial   \n",
       "4718                         Presencial   \n",
       "4719                         Presencial   \n",
       "4720                         Presencial   \n",
       "4721                         Presencial   \n",
       "\n",
       "                                       Salario  \\\n",
       "0         R$ 100,00 a R$ 180,00 (Bruto mensal)   \n",
       "1                           Salário a combinar   \n",
       "2                           Salário a combinar   \n",
       "3                           Salário a combinar   \n",
       "4                           Salário a combinar   \n",
       "...                                        ...   \n",
       "4717                        Salário a combinar   \n",
       "4718  R$ 1.629,00 a R$ 2.080,00 (Bruto mensal)   \n",
       "4719                R$ 2.500,00 (Bruto mensal)   \n",
       "4720                R$ 1.898,00 (Bruto mensal)   \n",
       "4721  R$ 5.000,00 a R$ 6.000,00 (Bruto mensal)   \n",
       "\n",
       "                                              Link_Vaga  \n",
       "0     https://www.infojobs.com.br/vaga-de-auxiliar-l...  \n",
       "1     https://www.infojobs.com.br/vaga-de-auxiliar-v...  \n",
       "2     https://www.infojobs.com.br/vaga-de-ajudante-e...  \n",
       "3                                   Link não encontrado  \n",
       "4     https://www.infojobs.com.br/vaga-de-auxiliar-c...  \n",
       "...                                                 ...  \n",
       "4717  https://www.infojobs.com.br/vaga-de-professor-...  \n",
       "4718  https://www.infojobs.com.br/vaga-de-auxiliar-e...  \n",
       "4719  https://www.infojobs.com.br/vaga-de-analista-c...  \n",
       "4720  https://www.infojobs.com.br/vaga-de-ajudante-e...  \n",
       "4721  https://www.infojobs.com.br/vaga-de-analista-f...  \n",
       "\n",
       "[4722 rows x 8 columns]"
      ]
     },
     "execution_count": 49,
     "metadata": {},
     "output_type": "execute_result"
    }
   ],
   "source": [
    "df"
   ]
  },
  {
   "cell_type": "code",
   "execution_count": 41,
   "metadata": {},
   "outputs": [
    {
     "data": {
      "text/plain": [
       "Empresa\n",
       "Nome da empresa não encontrado    681\n",
       "Inclusiva RH                       39\n",
       "Estagiando Centro de Estágio       31\n",
       "Futura Estágios                    30\n",
       "EMPREGGA                           29\n",
       "                                 ... \n",
       "DISTRISUPER                         1\n",
       "GRACIENE P DE SOUSA                 1\n",
       "FERROVIA                            1\n",
       "HASA DOCUMENTOS                     1\n",
       "D'acampos Construtora               1\n",
       "Name: count, Length: 2402, dtype: int64"
      ]
     },
     "execution_count": 41,
     "metadata": {},
     "output_type": "execute_result"
    }
   ],
   "source": [
    "df['Empresa'].value_counts()"
   ]
  },
  {
   "cell_type": "code",
   "execution_count": 35,
   "metadata": {},
   "outputs": [
    {
     "data": {
      "text/plain": [
       "0                    Campinas - SP\n",
       "1                   São Paulo - SP\n",
       "2                    Sorocaba - SP\n",
       "3                   São Paulo - SP\n",
       "4       São José do Rio Preto - SP\n",
       "                   ...            \n",
       "6727                São Paulo - SP\n",
       "6728                São Paulo - SP\n",
       "6729                São Paulo - SP\n",
       "6730                São Paulo - SP\n",
       "6731                São Paulo - SP\n",
       "Name: Localizacao_da_Vaga, Length: 6732, dtype: object"
      ]
     },
     "execution_count": 35,
     "metadata": {},
     "output_type": "execute_result"
    }
   ],
   "source": [
    "df['Localizacao_da_Vaga']"
   ]
  },
  {
   "cell_type": "code",
   "execution_count": 36,
   "metadata": {},
   "outputs": [],
   "source": [
    "df = df.sample(frac=1).reset_index(drop=True)"
   ]
  },
  {
   "cell_type": "code",
   "execution_count": 51,
   "metadata": {},
   "outputs": [],
   "source": [
    "df.to_csv('output_tratado.csv' , header=False, index=False, encoding='utf-8')"
   ]
  },
  {
   "cell_type": "code",
   "execution_count": 9,
   "metadata": {},
   "outputs": [],
   "source": []
  }
 ],
 "metadata": {
  "kernelspec": {
   "display_name": "base",
   "language": "python",
   "name": "python3"
  },
  "language_info": {
   "codemirror_mode": {
    "name": "ipython",
    "version": 3
   },
   "file_extension": ".py",
   "mimetype": "text/x-python",
   "name": "python",
   "nbconvert_exporter": "python",
   "pygments_lexer": "ipython3",
   "version": "3.11.5"
  }
 },
 "nbformat": 4,
 "nbformat_minor": 2
}
